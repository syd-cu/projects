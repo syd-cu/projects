{
 "cells": [
  {
   "cell_type": "markdown",
   "metadata": {},
   "source": [
    "This Notebook contains the code of all of the methods we used for this project.\n",
    "\n",
    "The models are ordered in the following way:\n",
    "\n",
    "1. Regression Estimate\n",
    "\n",
    "2. Doubly Robust Estimation\n",
    "\n",
    "3. Propensity Matching with Linear Propensity Score\n",
    "\n",
    "Each model contains two analysis for both High and Low Dimension data.\n",
    "\n",
    "At the end of this Notebook the reader will find a comparison table for the methods."
   ]
  },
  {
   "cell_type": "code",
   "execution_count": 26,
   "metadata": {},
   "outputs": [],
   "source": [
    "# importing packages used in this Notebook\n",
    "\n",
    "import pandas as pd\n",
    "import numpy as np\n",
    "import time\n",
    "from sklearn.linear_model import LinearRegression\n",
    "from sklearn.linear_model import LogisticRegression\n",
    "from sklearn.model_selection import train_test_split\n",
    "from sklearn.preprocessing import StandardScaler\n",
    "from sklearn.model_selection import GridSearchCV\n",
    "import statsmodels.api as sm"
   ]
  },
  {
   "cell_type": "code",
   "execution_count": 9,
   "metadata": {},
   "outputs": [],
   "source": [
    "# real ATE are given:\n",
    "\n",
    "real_low = 2.5\n",
    "real_high = -3"
   ]
  },
  {
   "cell_type": "code",
   "execution_count": 117,
   "metadata": {},
   "outputs": [],
   "source": [
    "# loading data\n",
    "\n",
    "low_dim = pd.read_csv('data/lowDim_dataset.csv')\n",
    "high_dim = pd.read_csv('data/highDim_dataset.csv')\n",
    "\n",
    "# inspecting data\n",
    "\n",
    "low_dim.isna().sum().sum(),high_dim.isna().sum().sum(),low_dim.shape, high_dim.shape"
   ]
  },
  {
   "cell_type": "markdown",
   "metadata": {},
   "source": [
    "# Regression Estimate"
   ]
  },
  {
   "cell_type": "markdown",
   "metadata": {},
   "source": [
    "## Low Dimension"
   ]
  },
  {
   "cell_type": "code",
   "execution_count": 133,
   "metadata": {},
   "outputs": [],
   "source": [
    "# starting to measure run time for low dimension\n",
    "\n",
    "start_time_low = time.time()\n",
    "\n",
    "# deviding the data into treated and control groups\n",
    "\n",
    "low_dim_treated = low_dim[low_dim['A'] == 1]\n",
    "low_dim_treated = low_dim_treated.reset_index(drop = True)\n",
    "\n",
    "low_dim_control = low_dim[low_dim['A'] == 0]\n",
    "low_dim_control = low_dim_control.reset_index(drop = True)"
   ]
  },
  {
   "cell_type": "code",
   "execution_count": 134,
   "metadata": {},
   "outputs": [],
   "source": [
    "# running a regression for the treated group:\n",
    "\n",
    "lr = LinearRegression()\n",
    "X, y = low_dim_treated.iloc[:,2:], low_dim_treated.iloc[:,0]\n",
    "lr.fit(X, y)\n",
    "LinearRegression(copy_X=True, fit_intercept=True, normalize=False)\n",
    "coef_treated_low = lr.coef_\n",
    "intercept_treated_low =lr.intercept_"
   ]
  },
  {
   "cell_type": "code",
   "execution_count": 135,
   "metadata": {},
   "outputs": [],
   "source": [
    "# running a regression for the control group:\n",
    "\n",
    "lr = LinearRegression()\n",
    "X, y = low_dim_control.iloc[:,2:], low_dim_control.iloc[:,0]\n",
    "lr.fit(X, y)\n",
    "LinearRegression(copy_X=True, fit_intercept=True, normalize=False)\n",
    "coef_control_low = lr.coef_\n",
    "intercept_control_low =lr.intercept_"
   ]
  },
  {
   "cell_type": "code",
   "execution_count": 136,
   "metadata": {},
   "outputs": [],
   "source": [
    "# calculating fitted y's for both treated and control groups\n",
    "\n",
    "fitted_y_treated_low = low_dim.iloc[:,2:].transpose().multiply(coef_treated_low, axis =0).sum() + intercept_treated_low\n",
    "fitted_y_control_low = low_dim.iloc[:,2:].transpose().multiply(coef_control_low, axis =0).sum() + intercept_control_low"
   ]
  },
  {
   "cell_type": "code",
   "execution_count": 137,
   "metadata": {},
   "outputs": [],
   "source": [
    "# calculating the difference b.w the treatment and control group\n",
    "\n",
    "ate_low = (fitted_y_treated_low - fitted_y_control_low).mean()\n",
    "# measuring accuracy:\n",
    "\n",
    "accuracy_low = (ate_low - real_low)/real_low\n",
    "# stopping the clock:\n",
    "\n",
    "run_time_low = time.time() - start_time_low"
   ]
  },
  {
   "cell_type": "markdown",
   "metadata": {},
   "source": [
    "## High Dimension"
   ]
  },
  {
   "cell_type": "code",
   "execution_count": 138,
   "metadata": {},
   "outputs": [],
   "source": [
    "# starting to measure run time for low dimension\n",
    "\n",
    "start_time_high = time.time()\n",
    "\n",
    "# deviding the data into treated and control groups\n",
    "\n",
    "high_dim_treated = high_dim[high_dim['A'] == 1]\n",
    "high_dim_treated = high_dim_treated.reset_index(drop = True)\n",
    "\n",
    "high_dim_control = high_dim[high_dim['A'] == 0]\n",
    "high_dim_control = high_dim_control.reset_index(drop = True)"
   ]
  },
  {
   "cell_type": "code",
   "execution_count": 139,
   "metadata": {},
   "outputs": [],
   "source": [
    "# running a regression for the treated group:\n",
    "\n",
    "lr = LinearRegression()\n",
    "X, y = high_dim_treated.iloc[:,2:], high_dim_treated.iloc[:,0]\n",
    "lr.fit(X, y)\n",
    "LinearRegression(copy_X=True, fit_intercept=True, normalize=False)\n",
    "coef_treated_high = lr.coef_\n",
    "intercept_treated_high =lr.intercept_"
   ]
  },
  {
   "cell_type": "code",
   "execution_count": 140,
   "metadata": {},
   "outputs": [],
   "source": [
    "# running a regression for the control group:\n",
    "\n",
    "lr = LinearRegression()\n",
    "X, y = high_dim_control.iloc[:,2:], high_dim_control.iloc[:,0]\n",
    "lr.fit(X, y)\n",
    "LinearRegression(copy_X=True, fit_intercept=True, normalize=False)\n",
    "coef_control_high = lr.coef_\n",
    "intercept_control_high =lr.intercept_"
   ]
  },
  {
   "cell_type": "code",
   "execution_count": 141,
   "metadata": {},
   "outputs": [],
   "source": [
    "# calculating fitted y's for both treated and control groups\n",
    "\n",
    "fitted_y_treated_high = high_dim.iloc[:,2:].transpose().multiply(coef_treated_high, axis =0).sum() + intercept_treated_high\n",
    "fitted_y_control_high = high_dim.iloc[:,2:].transpose().multiply(coef_control_high, axis =0).sum() + intercept_control_high"
   ]
  },
  {
   "cell_type": "code",
   "execution_count": 142,
   "metadata": {},
   "outputs": [],
   "source": [
    "# calculating the difference b.w the treatment and control group\n",
    "\n",
    "ate_high = (fitted_y_treated_high - fitted_y_control_high).mean()\n",
    "# measuring accuracy\n",
    "\n",
    "accuracy_high = (ate_high - real_high)/real_high\n",
    "# stopping clock\n",
    "\n",
    "run_time_high = time.time() - start_time_high"
   ]
  },
  {
   "cell_type": "markdown",
   "metadata": {},
   "source": [
    "## Results"
   ]
  },
  {
   "cell_type": "code",
   "execution_count": 53,
   "metadata": {},
   "outputs": [
    {
     "data": {
      "text/html": [
       "<div>\n",
       "<style scoped>\n",
       "    .dataframe tbody tr th:only-of-type {\n",
       "        vertical-align: middle;\n",
       "    }\n",
       "\n",
       "    .dataframe tbody tr th {\n",
       "        vertical-align: top;\n",
       "    }\n",
       "\n",
       "    .dataframe thead th {\n",
       "        text-align: right;\n",
       "    }\n",
       "</style>\n",
       "<table border=\"1\" class=\"dataframe\">\n",
       "  <thead>\n",
       "    <tr style=\"text-align: right;\">\n",
       "      <th></th>\n",
       "      <th></th>\n",
       "      <th>run_time</th>\n",
       "      <th>ate</th>\n",
       "      <th>accuracy</th>\n",
       "    </tr>\n",
       "    <tr>\n",
       "      <th>method</th>\n",
       "      <th></th>\n",
       "      <th></th>\n",
       "      <th></th>\n",
       "      <th></th>\n",
       "    </tr>\n",
       "  </thead>\n",
       "  <tbody>\n",
       "    <tr>\n",
       "      <td rowspan=\"2\" valign=\"top\">regression_estimate</td>\n",
       "      <td>low</td>\n",
       "      <td>6.618</td>\n",
       "      <td>2.532</td>\n",
       "      <td>0.013</td>\n",
       "    </tr>\n",
       "    <tr>\n",
       "      <td>high</td>\n",
       "      <td>4.319</td>\n",
       "      <td>-2.951</td>\n",
       "      <td>-0.016</td>\n",
       "    </tr>\n",
       "  </tbody>\n",
       "</table>\n",
       "</div>"
      ],
      "text/plain": [
       "                          run_time    ate  accuracy\n",
       "method                                             \n",
       "regression_estimate low      6.618  2.532     0.013\n",
       "                    high     4.319 -2.951    -0.016"
      ]
     },
     "execution_count": 53,
     "metadata": {},
     "output_type": "execute_result"
    }
   ],
   "source": [
    "# building a df for the results:\n",
    "\n",
    "regression_estimate_low = pd.Series(data = [run_time_low, ate_low, accuracy_low], \n",
    "                                   index = ['run_time','ate','accuracy']).rename('low')\n",
    "regression_estimate_high = pd.Series(data = [run_time_high, ate_high, accuracy_high], \n",
    "                                     index = ['run_time','ate', 'accuracy']).rename('high')\n",
    "results_regression_estimate = pd.DataFrame([regression_estimate_low, regression_estimate_high]).round(3)\n",
    "results_regression_estimate = pd.concat({'regression_estimate': results_regression_estimate}, names=['method'])\n",
    "results_regression_estimate"
   ]
  },
  {
   "cell_type": "markdown",
   "metadata": {},
   "source": [
    "# Doubly Robust Estimation"
   ]
  },
  {
   "cell_type": "markdown",
   "metadata": {},
   "source": [
    "## Low Dimension"
   ]
  },
  {
   "cell_type": "code",
   "execution_count": 118,
   "metadata": {},
   "outputs": [],
   "source": [
    "# Create X and Y variables from origianal datasets for L1 Logistic Regression \n",
    "def logit_dataset (df):\n",
    "    #all the covariates as X\n",
    "    X = df.drop(['A','Y'], axis = 1)  \n",
    "    y = df[['A']]\n",
    "    return X, y\n",
    "\n",
    "#Scaler training features for regression model\n",
    "def std_feature (x_train, x_test):\n",
    "    sc = StandardScaler()\n",
    "    x_train_scaled = sc.fit_transform(x_train)\n",
    "    x_test_scaled = sc.transform(x_test)\n",
    "    return x_train_scaled,  x_test_scaled"
   ]
  },
  {
   "cell_type": "code",
   "execution_count": 119,
   "metadata": {},
   "outputs": [],
   "source": [
    "X_low = logit_dataset(low_dim)[0]\n",
    "y_low = logit_dataset(low_dim)[1]\n",
    "\n",
    "# Split data into training and testing sets\n",
    "X_train_low, X_test_low, y_train_low, y_test_low = train_test_split(X_low, y_low, test_size=0.25, random_state=0)\n",
    "\n",
    "# Standardize features\n",
    "X_train_low_std =std_feature(X_train_low,X_test_low)[0]\n",
    "X_test_low_std = std_feature(X_train_low,X_test_low)[1]"
   ]
  },
  {
   "cell_type": "code",
   "execution_count": 120,
   "metadata": {},
   "outputs": [
    {
     "data": {
      "text/plain": [
       "GridSearchCV(cv=5, error_score='raise-deprecating',\n",
       "             estimator=LogisticRegression(C=1.0, class_weight=None, dual=False,\n",
       "                                          fit_intercept=True,\n",
       "                                          intercept_scaling=1, l1_ratio=None,\n",
       "                                          max_iter=100, multi_class='warn',\n",
       "                                          n_jobs=None, penalty='l1',\n",
       "                                          random_state=None, solver='liblinear',\n",
       "                                          tol=0.0001, verbose=0,\n",
       "                                          warm_start=False),\n",
       "             iid='warn', n_jobs=None,\n",
       "             param_grid={'C': [1, 0.95, 0.9, 0.85, 0.8, 0.75, 0.7, 0.5, 0.4,\n",
       "                               0.3, 0.2, 0.25, 0.1]},\n",
       "             pre_dispatch='2*n_jobs', refit=True, return_train_score=False,\n",
       "             scoring=None, verbose=0)"
      ]
     },
     "execution_count": 120,
     "metadata": {},
     "output_type": "execute_result"
    }
   ],
   "source": [
    "param_grid = {'C': [1, 0.95, 0.9, 0.85, 0.8, 0.75, 0.7, 0.5, 0.4, 0.3, 0.2, 0.25,0.1]}\n",
    "clf = GridSearchCV(LogisticRegression(penalty='l1'), param_grid)\n",
    "clf=LogisticRegression(penalty='l1',solver = 'liblinear')\n",
    "clf_cv=GridSearchCV(clf,param_grid,cv=5)\n",
    "clf_cv.fit(X_train_low_std, y_train_low.values.ravel())"
   ]
  },
  {
   "cell_type": "code",
   "execution_count": 121,
   "metadata": {},
   "outputs": [],
   "source": [
    "start_time_l1_low = time.time()\n",
    "# Best: C = 0.1\n",
    "clf_low = LogisticRegression(penalty='l1', C = 0.1, solver = 'liblinear')\n",
    "#Calculate propensity scores\n",
    "clf_low.fit(X_low, y_low.values.ravel())\n",
    "ps_low=clf_low.predict_proba(X_low)[:, 1]"
   ]
  },
  {
   "cell_type": "code",
   "execution_count": 122,
   "metadata": {},
   "outputs": [],
   "source": [
    "full_low_dim = low_dim.copy()\n",
    "full_low_dim['PS']=pd.Series(ps_low, index=full_low_dim.index)"
   ]
  },
  {
   "cell_type": "code",
   "execution_count": 123,
   "metadata": {},
   "outputs": [],
   "source": [
    "# deviding the low dimensional data into treated and control groups\n",
    "\n",
    "lowDim_treated = low_dim[low_dim['A'] == 1]\n",
    "lowDim_treated = lowDim_treated.reset_index(drop = True)\n",
    "\n",
    "lowDim_control = low_dim[low_dim['A'] == 0]\n",
    "lowDim_control = lowDim_control.reset_index(drop = True)\n",
    "\n",
    "#Fit a regression model to get the estimation of y given T=1 and X \n",
    "X1_low_treated = lowDim_treated.drop(['Y'], axis = 1)\n",
    "y_low_treated = lowDim_treated['Y']\n",
    "lr_low_treated = LinearRegression().fit(X1_low_treated, y_low_treated)\n",
    "\n",
    "# Fit a regression model to get the estimation of y given T=0and X \n",
    "X1_low_control = lowDim_control.drop(['Y'], axis = 1)\n",
    "y_low_control = lowDim_control['Y']\n",
    "lr_low_control = LinearRegression().fit(X1_low_control, y_low_control)\n",
    "\n",
    "\n",
    "# Select all covariates and 'A' columns from full dataset\n",
    "X_low_new = full_low_dim.drop(['Y','PS'], axis = 1)\n",
    "m1_low= lr_low_treated.predict(X_low_new)\n",
    "m0_low= lr_low_control.predict(X_low_new)\n",
    "# join m1 and m0 to full_low_dim\n",
    "full_low_dim['m1'] = pd.Series(m1_low, index = full_low_dim.index)\n",
    "full_low_dim['m0'] = pd.Series(m0_low, index = full_low_dim.index)"
   ]
  },
  {
   "cell_type": "code",
   "execution_count": 124,
   "metadata": {},
   "outputs": [],
   "source": [
    "def DRE(full_data):\n",
    "    \n",
    "    n = len(full_data.index)\n",
    "    result1 = 0\n",
    "    result2 = 0\n",
    "    \n",
    "    for i in range(n):\n",
    "        result1 = result1 + (full_data['A'][i] * full_data['Y'][i] - (full_data['A'][i] - full_data['PS'][i])*full_data['m1'][i])/full_data['PS'][i]\n",
    "        result2 = result2 + ((1-full_data['A'][i])* full_data['Y'][i] - (full_data['A'][i] - full_data['PS'][i])*full_data['m0'][i])/(1-full_data['PS'][i])\n",
    "        \n",
    "    ETA = 1/n*(result1-result2)\n",
    "    \n",
    "    return ETA"
   ]
  },
  {
   "cell_type": "code",
   "execution_count": 125,
   "metadata": {},
   "outputs": [],
   "source": [
    "start_time_dre_low = time.time()\n",
    "ate_dre_low=DRE(full_low_dim)\n",
    "accuracy_dre_low = (ate_dre_low - real_low)/real_low\n",
    "run_time_l1_low = time.time() - start_time_l1_low \n",
    "run_time_dre_low = time.time() - start_time_dre_low"
   ]
  },
  {
   "cell_type": "markdown",
   "metadata": {},
   "source": [
    "## High Dimension"
   ]
  },
  {
   "cell_type": "code",
   "execution_count": 126,
   "metadata": {},
   "outputs": [],
   "source": [
    "X_high = logit_dataset(high_dim)[0]\n",
    "y_high = logit_dataset(high_dim)[1]\n",
    "\n",
    "X_train_high, X_test_high, y_train_high, y_test_high = train_test_split(X_high, y_high, test_size=0.25, random_state=0)\n",
    "\n",
    "# Standardize features\n",
    "X_train_high_std =std_feature(X_train_high,X_test_high)[0]\n",
    "X_test_high_std = std_feature(X_train_high,X_test_high)[1]"
   ]
  },
  {
   "cell_type": "code",
   "execution_count": 127,
   "metadata": {},
   "outputs": [],
   "source": [
    "# L1 penalized logistic regression for propencity scores\n",
    "\n",
    "param_grid = {'C': [.06, .05, .04, .03, .02, .01, 0.008, 0.005, 0.001]}\n",
    "clf = GridSearchCV(LogisticRegression(penalty='l1'), param_grid)\n",
    "clf=LogisticRegression(penalty='l1',solver = 'liblinear')\n",
    "clf_cv=GridSearchCV(clf,param_grid,cv=5)\n",
    "clf_cv.fit(X_train_high_std, y_train_high.values.ravel())\n",
    "\n",
    "# Best: C = 0.04\n",
    "start_time_l1_high = time.time()\n",
    "clf_high = LogisticRegression(penalty='l1', C = 0.04, solver = 'liblinear')\n",
    "#Calculate propensity scores\n",
    "clf_high.fit(X_high, y_high.values.ravel())\n",
    "ps_high=clf_high.predict_proba(X_high)[:, 1]"
   ]
  },
  {
   "cell_type": "code",
   "execution_count": 128,
   "metadata": {},
   "outputs": [],
   "source": [
    "# Doubly Robust Estimation Algorithm to calculate ATE\n",
    "\n",
    "full_high_dim= high_dim.copy()\n",
    "full_high_dim['PS']=pd.Series(ps_high, index=full_high_dim.index)\n",
    "\n",
    "# deviding the high dimensional data into treated and control groups\n",
    "highDim_treated = high_dim[high_dim['A'] == 1]\n",
    "highDim_treated = highDim_treated.reset_index(drop = True)\n",
    "\n",
    "highDim_control = high_dim[high_dim['A'] == 0]\n",
    "highDim_control = highDim_control.reset_index(drop = True)\n",
    "\n",
    "\n",
    "# Fit a regression model to get the estimation of y given T=1 and X \n",
    "X1_high_treated = highDim_treated.drop(['Y'], axis = 1)\n",
    "y_high_treated = highDim_treated['Y']\n",
    "lr_high_treated = LinearRegression().fit(X1_high_treated, y_high_treated)\n",
    "\n",
    "\n",
    "# Fit a regression model to get the estimation of y given T=0 and X \n",
    "X1_high_control = highDim_control.drop(['Y'], axis = 1)\n",
    "y_high_control = highDim_control['Y']\n",
    "lr_high_control = LinearRegression().fit(X1_high_control, y_high_control)\n",
    "\n",
    "#Add m1 and m0 to dataset\n",
    "X_high_new = full_high_dim.drop(['Y','PS'], axis = 1)\n",
    "m1_high= lr_high_treated.predict(X_high_new)\n",
    "m0_high= lr_high_control.predict(X_high_new)\n",
    "full_high_dim['m1'] = pd.Series(m1_high, index = full_high_dim.index)\n",
    "full_high_dim['m0'] = pd.Series(m0_high, index = full_high_dim.index)"
   ]
  },
  {
   "cell_type": "code",
   "execution_count": 129,
   "metadata": {},
   "outputs": [],
   "source": [
    "start_time_dre_high = time.time()\n",
    "ate_dre_high=DRE(full_high_dim)\n",
    "accuracy_dre_high= (ate_dre_high - real_high)/real_high\n",
    "run_time_l1_high = time.time() - start_time_l1_high \n",
    "run_time_dre_high = time.time() - start_time_dre_high"
   ]
  },
  {
   "cell_type": "markdown",
   "metadata": {},
   "source": [
    "## Results"
   ]
  },
  {
   "cell_type": "code",
   "execution_count": 130,
   "metadata": {},
   "outputs": [
    {
     "data": {
      "text/html": [
       "<div>\n",
       "<style scoped>\n",
       "    .dataframe tbody tr th:only-of-type {\n",
       "        vertical-align: middle;\n",
       "    }\n",
       "\n",
       "    .dataframe tbody tr th {\n",
       "        vertical-align: top;\n",
       "    }\n",
       "\n",
       "    .dataframe thead th {\n",
       "        text-align: right;\n",
       "    }\n",
       "</style>\n",
       "<table border=\"1\" class=\"dataframe\">\n",
       "  <thead>\n",
       "    <tr style=\"text-align: right;\">\n",
       "      <th></th>\n",
       "      <th></th>\n",
       "      <th>run_time</th>\n",
       "      <th>ate</th>\n",
       "      <th>accuracy</th>\n",
       "    </tr>\n",
       "    <tr>\n",
       "      <th>method</th>\n",
       "      <th></th>\n",
       "      <th></th>\n",
       "      <th></th>\n",
       "      <th></th>\n",
       "    </tr>\n",
       "  </thead>\n",
       "  <tbody>\n",
       "    <tr>\n",
       "      <td rowspan=\"2\" valign=\"top\">DRE</td>\n",
       "      <td>low</td>\n",
       "      <td>0.115</td>\n",
       "      <td>2.645</td>\n",
       "      <td>0.058</td>\n",
       "    </tr>\n",
       "    <tr>\n",
       "      <td>high</td>\n",
       "      <td>0.438</td>\n",
       "      <td>-3.082</td>\n",
       "      <td>0.027</td>\n",
       "    </tr>\n",
       "  </tbody>\n",
       "</table>\n",
       "</div>"
      ],
      "text/plain": [
       "             run_time    ate  accuracy\n",
       "method                                \n",
       "DRE    low      0.115  2.645     0.058\n",
       "       high     0.438 -3.082     0.027"
      ]
     },
     "execution_count": 130,
     "metadata": {},
     "output_type": "execute_result"
    }
   ],
   "source": [
    "dre_low = pd.Series(data = [run_time_dre_low, ate_dre_low, accuracy_dre_low], \n",
    "                                   index = ['run_time','ate','accuracy']).rename('low')\n",
    "\n",
    "dre_high = pd.Series(data = [run_time_dre_high, ate_dre_high, accuracy_dre_high], \n",
    "                                     index = ['run_time','ate', 'accuracy']).rename('high')\n",
    "results_dre = pd.DataFrame([dre_low, dre_high]).round(3)\n",
    "results_dre = pd.concat({'DRE': results_dre}, names=['method'])\n",
    "results_dre"
   ]
  },
  {
   "cell_type": "markdown",
   "metadata": {},
   "source": [
    "# PSM"
   ]
  },
  {
   "cell_type": "code",
   "execution_count": 34,
   "metadata": {},
   "outputs": [],
   "source": [
    "X_high = high_dim.drop(['A','Y'], axis = 1)\n",
    "X_low = low_dim.drop(['A','Y'], axis = 1)\n",
    "\n",
    "y_high = high_dim[['A']]\n",
    "y_low = low_dim[['A']]"
   ]
  },
  {
   "cell_type": "code",
   "execution_count": 35,
   "metadata": {},
   "outputs": [],
   "source": [
    "# Choosing the best parameter to calculate propensity score\n",
    "\n",
    "def best_para(data, C):\n",
    "    X=data.drop(['A','Y'], axis = 1)\n",
    "    y=data[['A']]\n",
    "    diff=[]\n",
    "    for c in C:\n",
    "        clf = LogisticRegression(penalty='l1', C = c, solver = 'liblinear')\n",
    "        clf.fit(X, y.values.ravel())\n",
    "        ps_logit=clf.predict_log_proba(X)[:, 1]\n",
    "        data['log_ps']=ps_logit\n",
    "        treated=data[data['A']==1]\n",
    "        control=data[data['A']==0]\n",
    "        di=max(treated['log_ps'])-min(treated['log_ps'])\n",
    "        dj=max(control['log_ps'])-min(control['log_ps'])\n",
    "        diff.append(abs(di-dj))\n",
    "    best_ind=diff.index(min(diff))\n",
    "    best_c=C[best_ind]\n",
    "    best_diff=diff[best_ind]\n",
    "    return best_c, best_diff"
   ]
  },
  {
   "cell_type": "code",
   "execution_count": 36,
   "metadata": {},
   "outputs": [],
   "source": [
    "# Propensity score matching model\n",
    "\n",
    "def PSM(treated_df, control_df):\n",
    "    \n",
    "    treated_df.loc[:,'group']=None\n",
    "    treated_df.loc[:,'control_Y']=None\n",
    "    \n",
    "    diff_i=[]\n",
    "    for i in range(len(treated_df)):\n",
    "        diff_j=[]\n",
    "        for j in range(len(control_df)):\n",
    "            diff_j.append(abs(control_df.loc[j,'log_ps']-treated_df.loc[i,'log_ps']))\n",
    "\n",
    "        ind_j=diff_j.index(min(diff_j))\n",
    "        treated_df.loc[i,'control_Y']=control_df.loc[ind_j,'Y']\n",
    "        diff_i.append(min(diff_j))\n",
    "        \n",
    "    r=(max(diff_i)-min(diff_i))/5\n",
    "    for i in range(len(treated_df)):\n",
    "        if diff_i[i] < min(diff_i)+r:\n",
    "            treated_df.loc[i,'group']=1\n",
    "        elif diff_i[i] >= min(diff_i)+r and diff_i[i] < min(diff_i)+r*2:\n",
    "            treated_df.loc[i,'group']=2\n",
    "        elif diff_i[i] >= min(diff_i)+r*2 and diff_i[i] < min(diff_i)+r*3:\n",
    "            treated_df.loc[i,'group']=3\n",
    "        elif diff_i[i] >= min(diff_i)+r*3 and diff_i[i] < min(diff_i)+r*4:\n",
    "            treated_df.loc[i,'group']=4\n",
    "        else:\n",
    "            treated_df.loc[i,'group']=5\n",
    "    \n",
    "    ATE=0\n",
    "    for k in range(treated_df.loc[:,'group'].max()):\n",
    "        group=treated_df[treated_df.loc[:,'group']==k+1]\n",
    "        if len(group)!=0:\n",
    "            ATE=ATE+(group.loc[:,'Y']-group.loc[:,'control_Y']).mean()*len(group)/len(treated_df)\n",
    "    \n",
    "    return ATE"
   ]
  },
  {
   "cell_type": "markdown",
   "metadata": {},
   "source": [
    "## Low Dimension"
   ]
  },
  {
   "cell_type": "code",
   "execution_count": 37,
   "metadata": {},
   "outputs": [],
   "source": [
    "start_low = time.time()\n",
    "clf_low = LogisticRegression(penalty='l1', C = 0.2, solver = 'liblinear')\n",
    "clf_low.fit(X_low, y_low.values.ravel())\n",
    "ps_logit_low = clf_low.predict_log_proba(X_low)[:, 1]\n",
    "low_dim['log_ps']=ps_logit_low"
   ]
  },
  {
   "cell_type": "code",
   "execution_count": 38,
   "metadata": {},
   "outputs": [],
   "source": [
    "treated_low = low_dim[low_dim['A']==1]\n",
    "treated_low = treated_low.reset_index(drop = True)\n",
    "control_low = low_dim[low_dim['A']==0]\n",
    "control_low = control_low.reset_index(drop = True)\n",
    "\n",
    "ate_psm_low = PSM(treated_low, control_low)\n",
    "run_time_psm_low = time.time()-start_low\n",
    "accuracy_psm_low = (ate_psm_low - real_low)/real_low\n"
   ]
  },
  {
   "cell_type": "markdown",
   "metadata": {},
   "source": [
    "## High Dimension"
   ]
  },
  {
   "cell_type": "code",
   "execution_count": 39,
   "metadata": {},
   "outputs": [],
   "source": [
    "start_high = time.time()\n",
    "clf_high = LogisticRegression(penalty='l1', C = 0.5, solver = 'liblinear')\n",
    "clf_high.fit(X_high, y_high.values.ravel())\n",
    "ps_logit_high = clf_high.predict_log_proba(X_high)[:, 1]\n",
    "high_dim['log_ps']=ps_logit_high"
   ]
  },
  {
   "cell_type": "code",
   "execution_count": 40,
   "metadata": {},
   "outputs": [],
   "source": [
    "treated_high = high_dim[high_dim['A']==1]\n",
    "treated_high = treated_high.reset_index(drop = True)\n",
    "control_high = high_dim[high_dim['A']==0]\n",
    "control_high = control_high.reset_index(drop = True)\n",
    "\n",
    "ate_psm_high = PSM(treated_high, control_high)\n",
    "accuracy_psm_high = (ate_psm_high - real_high)/real_high\n",
    "run_time_psm_high = time.time()-start_high\n"
   ]
  },
  {
   "cell_type": "markdown",
   "metadata": {},
   "source": [
    "## Results"
   ]
  },
  {
   "cell_type": "code",
   "execution_count": 41,
   "metadata": {},
   "outputs": [
    {
     "data": {
      "text/html": [
       "<div>\n",
       "<style scoped>\n",
       "    .dataframe tbody tr th:only-of-type {\n",
       "        vertical-align: middle;\n",
       "    }\n",
       "\n",
       "    .dataframe tbody tr th {\n",
       "        vertical-align: top;\n",
       "    }\n",
       "\n",
       "    .dataframe thead th {\n",
       "        text-align: right;\n",
       "    }\n",
       "</style>\n",
       "<table border=\"1\" class=\"dataframe\">\n",
       "  <thead>\n",
       "    <tr style=\"text-align: right;\">\n",
       "      <th></th>\n",
       "      <th></th>\n",
       "      <th>run_time</th>\n",
       "      <th>ate</th>\n",
       "      <th>accuracy</th>\n",
       "    </tr>\n",
       "    <tr>\n",
       "      <th>method</th>\n",
       "      <th></th>\n",
       "      <th></th>\n",
       "      <th></th>\n",
       "      <th></th>\n",
       "    </tr>\n",
       "  </thead>\n",
       "  <tbody>\n",
       "    <tr>\n",
       "      <td rowspan=\"2\" valign=\"top\">psm</td>\n",
       "      <td>low</td>\n",
       "      <td>3.323</td>\n",
       "      <td>2.586</td>\n",
       "      <td>0.035</td>\n",
       "    </tr>\n",
       "    <tr>\n",
       "      <td>high</td>\n",
       "      <td>23.656</td>\n",
       "      <td>-3.069</td>\n",
       "      <td>0.023</td>\n",
       "    </tr>\n",
       "  </tbody>\n",
       "</table>\n",
       "</div>"
      ],
      "text/plain": [
       "             run_time    ate  accuracy\n",
       "method                                \n",
       "psm    low      3.323  2.586     0.035\n",
       "       high    23.656 -3.069     0.023"
      ]
     },
     "execution_count": 41,
     "metadata": {},
     "output_type": "execute_result"
    }
   ],
   "source": [
    "# building a df for psm results:\n",
    "\n",
    "psm_low = pd.Series(data = [run_time_psm_low, ate_psm_low, accuracy_psm_low], \n",
    "                                   index = ['run_time','ate','accuracy']).rename('low')\n",
    "\n",
    "psm_high = pd.Series(data = [run_time_psm_high, ate_psm_high, accuracy_psm_high], \n",
    "                                     index = ['run_time','ate', 'accuracy']).rename('high')\n",
    "results_psm = pd.DataFrame([psm_low, psm_high]).round(3)\n",
    "results_psm = pd.concat({'psm': results_psm}, names=['method'])\n",
    "\n",
    "results_psm"
   ]
  },
  {
   "cell_type": "markdown",
   "metadata": {},
   "source": [
    "# Methods Comparison"
   ]
  },
  {
   "cell_type": "code",
   "execution_count": 143,
   "metadata": {},
   "outputs": [],
   "source": [
    "results_final = pd.concat([results_regression_estimate, results_dre, results_psm]).round(3)\n",
    "results_final['accuracy'] = (1 - results_final['accuracy'].abs()) * 100"
   ]
  },
  {
   "cell_type": "code",
   "execution_count": 144,
   "metadata": {},
   "outputs": [
    {
     "data": {
      "text/html": [
       "<div>\n",
       "<style scoped>\n",
       "    .dataframe tbody tr th:only-of-type {\n",
       "        vertical-align: middle;\n",
       "    }\n",
       "\n",
       "    .dataframe tbody tr th {\n",
       "        vertical-align: top;\n",
       "    }\n",
       "\n",
       "    .dataframe thead th {\n",
       "        text-align: right;\n",
       "    }\n",
       "</style>\n",
       "<table border=\"1\" class=\"dataframe\">\n",
       "  <thead>\n",
       "    <tr style=\"text-align: right;\">\n",
       "      <th></th>\n",
       "      <th></th>\n",
       "      <th>run_time</th>\n",
       "      <th>ate</th>\n",
       "      <th>accuracy</th>\n",
       "    </tr>\n",
       "    <tr>\n",
       "      <th>method</th>\n",
       "      <th></th>\n",
       "      <th></th>\n",
       "      <th></th>\n",
       "      <th></th>\n",
       "    </tr>\n",
       "  </thead>\n",
       "  <tbody>\n",
       "    <tr>\n",
       "      <td rowspan=\"2\" valign=\"top\">regression_estimate</td>\n",
       "      <td>low</td>\n",
       "      <td>6.618</td>\n",
       "      <td>2.532</td>\n",
       "      <td>98.7</td>\n",
       "    </tr>\n",
       "    <tr>\n",
       "      <td>high</td>\n",
       "      <td>4.319</td>\n",
       "      <td>-2.951</td>\n",
       "      <td>98.4</td>\n",
       "    </tr>\n",
       "    <tr>\n",
       "      <td rowspan=\"2\" valign=\"top\">DRE</td>\n",
       "      <td>low</td>\n",
       "      <td>0.115</td>\n",
       "      <td>2.645</td>\n",
       "      <td>94.2</td>\n",
       "    </tr>\n",
       "    <tr>\n",
       "      <td>high</td>\n",
       "      <td>0.438</td>\n",
       "      <td>-3.082</td>\n",
       "      <td>97.3</td>\n",
       "    </tr>\n",
       "    <tr>\n",
       "      <td rowspan=\"2\" valign=\"top\">psm</td>\n",
       "      <td>low</td>\n",
       "      <td>3.323</td>\n",
       "      <td>2.586</td>\n",
       "      <td>96.5</td>\n",
       "    </tr>\n",
       "    <tr>\n",
       "      <td>high</td>\n",
       "      <td>23.656</td>\n",
       "      <td>-3.069</td>\n",
       "      <td>97.7</td>\n",
       "    </tr>\n",
       "  </tbody>\n",
       "</table>\n",
       "</div>"
      ],
      "text/plain": [
       "                          run_time    ate  accuracy\n",
       "method                                             \n",
       "regression_estimate low      6.618  2.532      98.7\n",
       "                    high     4.319 -2.951      98.4\n",
       "DRE                 low      0.115  2.645      94.2\n",
       "                    high     0.438 -3.082      97.3\n",
       "psm                 low      3.323  2.586      96.5\n",
       "                    high    23.656 -3.069      97.7"
      ]
     },
     "execution_count": 144,
     "metadata": {},
     "output_type": "execute_result"
    }
   ],
   "source": [
    "results_final"
   ]
  },
  {
   "cell_type": "code",
   "execution_count": null,
   "metadata": {},
   "outputs": [],
   "source": []
  }
 ],
 "metadata": {
  "kernelspec": {
   "display_name": "Python 3",
   "language": "python",
   "name": "python3"
  },
  "language_info": {
   "codemirror_mode": {
    "name": "ipython",
    "version": 3
   },
   "file_extension": ".py",
   "mimetype": "text/x-python",
   "name": "python",
   "nbconvert_exporter": "python",
   "pygments_lexer": "ipython3",
   "version": "3.7.4"
  }
 },
 "nbformat": 4,
 "nbformat_minor": 4
}
